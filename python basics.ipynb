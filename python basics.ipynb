{
  "cells": [
    {
      "cell_type": "markdown",
      "id": "d970d9f5",
      "metadata": {
        "id": "d970d9f5"
      },
      "source": [
        "# Introduction into python"
      ]
    },
    {
      "cell_type": "markdown",
      "id": "88daf0d2",
      "metadata": {
        "id": "88daf0d2"
      },
      "source": [
        "Python is an optimal programming language for data science and machine learning.\n",
        "For detailed information, start [here](https://en.wikipedia.org/wiki/Python_(programming_language)).\n",
        "\n",
        "\n",
        "One can implement simple tasks like in a pocket calculator but also very complex tasks like machine learning. Still, we can use notebooks like these to run python code transparently.\n",
        "\n",
        "Let's start with some simple operations.\n",
        "\n",
        "**Standards Operators** as one would use in a pocket calculator\n",
        "\n",
        "* Addition: `+`\n",
        "\n",
        "* Subtraction: `-`\n",
        "\n",
        "* Multiplication: `*`\n",
        "\n",
        "* Division: `/`\n",
        "\n",
        "* Exponentiation: `**`\n"
      ]
    },
    {
      "cell_type": "code",
      "execution_count": null,
      "id": "3fef33b1",
      "metadata": {
        "id": "3fef33b1",
        "outputId": "d5413375-ee85-4077-e7cb-aae4a6011ef6"
      },
      "outputs": [
        {
          "data": {
            "text/plain": "8"
          },
          "execution_count": 3,
          "metadata": {},
          "output_type": "execute_result"
        }
      ],
      "source": [
        "1+3+4"
      ]
    },
    {
      "cell_type": "code",
      "execution_count": null,
      "id": "1dba6f65",
      "metadata": {
        "id": "1dba6f65",
        "outputId": "50d463d7-7528-4080-8517-890cf1f25298"
      },
      "outputs": [
        {
          "data": {
            "text/plain": "-1"
          },
          "execution_count": 4,
          "metadata": {},
          "output_type": "execute_result"
        }
      ],
      "source": [
        "8-9"
      ]
    },
    {
      "cell_type": "code",
      "execution_count": null,
      "id": "621a0ea9",
      "metadata": {
        "id": "621a0ea9",
        "outputId": "6cd65b06-2e21-4d69-fceb-b4980caea9d7"
      },
      "outputs": [
        {
          "data": {
            "text/plain": "48"
          },
          "execution_count": 5,
          "metadata": {},
          "output_type": "execute_result"
        }
      ],
      "source": [
        "8*6"
      ]
    },
    {
      "cell_type": "code",
      "execution_count": null,
      "id": "d8aa2f23",
      "metadata": {
        "id": "d8aa2f23",
        "outputId": "da8b514c-d0a7-471a-96f6-634c98d9cc6f"
      },
      "outputs": [
        {
          "data": {
            "text/plain": "36"
          },
          "execution_count": 6,
          "metadata": {},
          "output_type": "execute_result"
        }
      ],
      "source": [
        "6**2"
      ]
    },
    {
      "cell_type": "code",
      "execution_count": null,
      "id": "7fdcdd22",
      "metadata": {
        "id": "7fdcdd22",
        "outputId": "41eef89a-b1c5-4a55-b119-f1d84f300f6f"
      },
      "outputs": [
        {
          "data": {
            "text/plain": "5540"
          },
          "execution_count": 7,
          "metadata": {},
          "output_type": "execute_result"
        }
      ],
      "source": [
        "6**2+59+99*55"
      ]
    },
    {
      "cell_type": "markdown",
      "id": "4a514a77",
      "metadata": {
        "id": "4a514a77"
      },
      "source": [
        "**Exercise**: Think of a calculation and write the operation in the cell below."
      ]
    },
    {
      "cell_type": "code",
      "execution_count": null,
      "id": "ffe7d6ba",
      "metadata": {
        "id": "ffe7d6ba"
      },
      "outputs": [],
      "source": []
    },
    {
      "cell_type": "markdown",
      "id": "840cd91a",
      "metadata": {
        "id": "840cd91a"
      },
      "source": [
        "**Functions**\n",
        "\n",
        "Functions allow combining multiple operations so that more complex processes can be implemented clearly. Often functions are part of a library. In the following example, we use the `log` function from the `NumPy` library.\n",
        "\n",
        "Later we will define functions ourselves, where we customize the integrated processes."
      ]
    },
    {
      "cell_type": "code",
      "execution_count": null,
      "id": "f9466940",
      "metadata": {
        "id": "f9466940",
        "outputId": "195055cb-c335-4d4c-cb5f-1a9052ce37b6"
      },
      "outputs": [
        {
          "data": {
            "text/plain": "1.3862943611198906"
          },
          "execution_count": 8,
          "metadata": {},
          "output_type": "execute_result"
        }
      ],
      "source": [
        "from numpy import log\n",
        "\n",
        "log(4) # this gives back the logarithm of 4"
      ]
    },
    {
      "cell_type": "code",
      "execution_count": null,
      "id": "c61e022e",
      "metadata": {
        "id": "c61e022e",
        "outputId": "f33cc133-3521-4f5a-cf29-89ba949c0f8c"
      },
      "outputs": [
        {
          "data": {
            "text/plain": "12112"
          },
          "execution_count": 9,
          "metadata": {},
          "output_type": "execute_result"
        }
      ],
      "source": [
        "def plus_two(number):\n",
        "    return number + 2\n",
        "\n",
        "plus_two(12110)"
      ]
    },
    {
      "cell_type": "markdown",
      "id": "1440b5a9",
      "metadata": {
        "id": "1440b5a9"
      },
      "source": [
        "**Variables**\n",
        "\n",
        "Variables can store numbers, text, or more complex structures. Here are two examples. `numeric` holds a number, `character` stores a text, and `logical` holds either `True` or `False`. The `=` sign allows to assign the variable with a piece of information. The `print function allows to present the stored information of a variable."
      ]
    },
    {
      "cell_type": "code",
      "execution_count": null,
      "id": "1388c534",
      "metadata": {
        "id": "1388c534",
        "outputId": "8ae22373-c0ed-4769-f8d7-d7bc18eb0adb"
      },
      "outputs": [
        {
          "name": "stdout",
          "output_type": "stream",
          "text": [
            "10\n",
            "Hi!\n",
            "False\n"
          ]
        }
      ],
      "source": [
        "numeric = 10\n",
        "character = \"Hi!\"\n",
        "logical = False\n",
        "\n",
        "print(numeric)\n",
        "print(character)\n",
        "print(logical)\n"
      ]
    },
    {
      "cell_type": "markdown",
      "id": "6d0162ad",
      "metadata": {
        "id": "6d0162ad"
      },
      "source": [
        "This is powerful as we also can use the variables to manipulate the associated values."
      ]
    },
    {
      "cell_type": "code",
      "execution_count": null,
      "id": "43010217",
      "metadata": {
        "id": "43010217",
        "outputId": "cab55051-9f5e-4f66-b76b-d261c0a2a649"
      },
      "outputs": [
        {
          "data": {
            "text/plain": "15"
          },
          "execution_count": 11,
          "metadata": {},
          "output_type": "execute_result"
        }
      ],
      "source": [
        "x = numeric\n",
        "x+5"
      ]
    },
    {
      "cell_type": "code",
      "execution_count": null,
      "id": "cf373e00",
      "metadata": {
        "id": "cf373e00",
        "outputId": "ec36d388-4e36-445d-eee1-b61c33148419"
      },
      "outputs": [
        {
          "data": {
            "text/plain": "19"
          },
          "execution_count": 12,
          "metadata": {},
          "output_type": "execute_result"
        }
      ],
      "source": [
        "z = 9\n",
        "x+z"
      ]
    },
    {
      "cell_type": "markdown",
      "id": "151112b8",
      "metadata": {
        "id": "151112b8"
      },
      "source": [
        "Critical here is to remember which type of information is stored in the variable. E.g., for apparent reasons, `x+y` will lead to an error message. But `'x'+y` will work. The critical difference here is that with hyphen indicators, we do not use the variable named `x`, but the character x and extend the information stored in `y` with this additional character.  "
      ]
    },
    {
      "cell_type": "code",
      "execution_count": null,
      "id": "cda36e84",
      "metadata": {
        "id": "cda36e84",
        "outputId": "1e36fb01-cbd1-435e-b5f9-ad89aad307cc"
      },
      "outputs": [
        {
          "name": "stdout",
          "output_type": "stream",
          "text": [
            "Dear Gertrud, how are you?\n",
            "Dear Anton, how are you?\n"
          ]
        }
      ],
      "source": [
        "name = \"Gertrud\"\n",
        "begruessung = \"Dear \" + name + \", how are you?\"\n",
        "\n",
        "print(begruessung)\n",
        "\n",
        "name = \"Anton\"\n",
        "begruessung = \"Dear \" + name + \", how are you?\"\n",
        "\n",
        "print(begruessung)"
      ]
    },
    {
      "cell_type": "markdown",
      "id": "be9a4491",
      "metadata": {
        "id": "be9a4491"
      },
      "source": [
        "With the `type()` function, one can identify the type of information stored in the variable."
      ]
    },
    {
      "cell_type": "code",
      "execution_count": null,
      "id": "6dfb1b5c",
      "metadata": {
        "id": "6dfb1b5c",
        "outputId": "670e87d5-db43-430d-82f5-fbc121078df2"
      },
      "outputs": [
        {
          "data": {
            "text/plain": "int"
          },
          "execution_count": 14,
          "metadata": {},
          "output_type": "execute_result"
        }
      ],
      "source": [
        "type(z)"
      ]
    },
    {
      "cell_type": "markdown",
      "id": "a0b55e80",
      "metadata": {
        "id": "a0b55e80"
      },
      "source": [
        "`int` indicates that in `x` an integer is stored (i.e., the number without decimals)."
      ]
    },
    {
      "cell_type": "code",
      "execution_count": null,
      "id": "d91cce56",
      "metadata": {
        "id": "d91cce56",
        "outputId": "12a046a2-766c-4d8e-b548-a553acf387ac"
      },
      "outputs": [
        {
          "data": {
            "text/plain": "int"
          },
          "execution_count": 15,
          "metadata": {},
          "output_type": "execute_result"
        }
      ],
      "source": [
        "type(x+1)"
      ]
    },
    {
      "cell_type": "markdown",
      "id": "5af9e1fd",
      "metadata": {
        "id": "5af9e1fd"
      },
      "source": [
        "`float` indicates that stored information is a number with decimals."
      ]
    },
    {
      "cell_type": "code",
      "execution_count": null,
      "id": "69a5b50a",
      "metadata": {
        "id": "69a5b50a",
        "outputId": "0bc250cb-b474-4bc7-c642-4a4ea599ab5d"
      },
      "outputs": [
        {
          "data": {
            "text/plain": "str"
          },
          "execution_count": 16,
          "metadata": {},
          "output_type": "execute_result"
        }
      ],
      "source": [
        "type(character)"
      ]
    },
    {
      "cell_type": "code",
      "execution_count": null,
      "id": "39fd24e7",
      "metadata": {
        "id": "39fd24e7",
        "outputId": "e5f1d016-701e-457a-bda3-2ff2f826e2b7"
      },
      "outputs": [
        {
          "data": {
            "text/plain": "bool"
          },
          "execution_count": 17,
          "metadata": {},
          "output_type": "execute_result"
        }
      ],
      "source": [
        "type(logical)"
      ]
    },
    {
      "cell_type": "markdown",
      "id": "3ee95494",
      "metadata": {
        "id": "3ee95494"
      },
      "source": [
        "**Exercise**: Define two variables and manipulate them."
      ]
    },
    {
      "cell_type": "code",
      "execution_count": null,
      "id": "d41ea187",
      "metadata": {
        "id": "d41ea187"
      },
      "outputs": [],
      "source": []
    },
    {
      "cell_type": "markdown",
      "id": "7b6e6d12",
      "metadata": {
        "id": "7b6e6d12"
      },
      "source": [
        "**Comparison operators**:\n",
        "\n",
        "* `<`  for less than\n",
        "\n",
        "* `>`  for greater than\n",
        "\n",
        "* `<=` for less than or equal to\n",
        "\n",
        "* `>=` for greater than or equal to\n",
        "\n",
        "* `==` for equal to each other\n",
        "\n",
        "* `!=` not equal to each other"
      ]
    },
    {
      "cell_type": "code",
      "execution_count": null,
      "id": "551797fa",
      "metadata": {
        "id": "551797fa",
        "outputId": "81403e5d-0533-47c8-e23a-5387ea7a3fdf"
      },
      "outputs": [
        {
          "name": "stdout",
          "output_type": "stream",
          "text": [
            "False\n",
            "True\n"
          ]
        }
      ],
      "source": [
        "y = 10\n",
        "print(x != y)\n",
        "print(x > z)"
      ]
    },
    {
      "cell_type": "code",
      "execution_count": null,
      "id": "638415c9",
      "metadata": {
        "id": "638415c9",
        "outputId": "0a8e2f4f-60e6-4af2-afb0-e6280bb0dfb7"
      },
      "outputs": [
        {
          "data": {
            "text/plain": "False"
          },
          "execution_count": 19,
          "metadata": {},
          "output_type": "execute_result"
        }
      ],
      "source": [
        "z == 10"
      ]
    },
    {
      "cell_type": "markdown",
      "id": "63b641a7",
      "metadata": {
        "id": "63b641a7"
      },
      "source": [
        "The result of a comparison is always a logical value (`True` or `False`)"
      ]
    },
    {
      "cell_type": "markdown",
      "id": "622d13df",
      "metadata": {
        "id": "622d13df"
      },
      "source": [
        "**`if`, `else` statements**\n",
        "\n",
        "These statements are used to differentiate between values based on comparison operators.\n",
        "\n",
        "`if` indicates that if some statement is `True`, then do something.  \n"
      ]
    },
    {
      "cell_type": "code",
      "execution_count": null,
      "id": "fa422b1f",
      "metadata": {
        "id": "fa422b1f",
        "outputId": "e4396748-4250-4a6b-f0c7-b621144d3590"
      },
      "outputs": [
        {
          "name": "stdout",
          "output_type": "stream",
          "text": [
            "x is greater than z\n"
          ]
        }
      ],
      "source": [
        "if x > z:\n",
        "    print (\"x is greater than z\")"
      ]
    },
    {
      "cell_type": "markdown",
      "id": "b1f82498",
      "metadata": {
        "id": "b1f82498"
      },
      "source": [
        "With the `else` statement, all possible alternatives are covered. In our case, all situations in which `x < z`. In the following example, we have this situation."
      ]
    },
    {
      "cell_type": "code",
      "execution_count": null,
      "id": "52b0de8e",
      "metadata": {
        "id": "52b0de8e"
      },
      "outputs": [],
      "source": [
        "z = z+x"
      ]
    },
    {
      "cell_type": "code",
      "execution_count": null,
      "id": "7e14f067",
      "metadata": {
        "id": "7e14f067",
        "outputId": "0c7ebaf1-bed0-4c4f-a90d-77f6eaa02555"
      },
      "outputs": [
        {
          "name": "stdout",
          "output_type": "stream",
          "text": [
            "z is greater than x\n"
          ]
        }
      ],
      "source": [
        "if x > z:\n",
        "    print (\"x is greater than z\")\n",
        "else:\n",
        "    print (\"z is greater than x\")"
      ]
    },
    {
      "cell_type": "markdown",
      "id": "190fb738",
      "metadata": {
        "id": "190fb738"
      },
      "source": [
        "More specific statements can be achieved by `elif`, which means else if that allows specifying additional cases."
      ]
    },
    {
      "cell_type": "code",
      "execution_count": null,
      "id": "59c5606a",
      "metadata": {
        "id": "59c5606a",
        "outputId": "30a06d78-9a64-4705-b8b6-bdb4c919b373"
      },
      "outputs": [
        {
          "name": "stdout",
          "output_type": "stream",
          "text": [
            "z is greater than x\n"
          ]
        }
      ],
      "source": [
        "if x > z:\n",
        "    print (\"x is greater than z\")\n",
        "elif z == x+50:\n",
        "    print (\"z is equal to x plus 50\")\n",
        "else:\n",
        "    print (\"z is greater than x\")"
      ]
    },
    {
      "cell_type": "markdown",
      "id": "f4c116dd",
      "metadata": {
        "id": "f4c116dd"
      },
      "source": [
        "**Exercise**: Define a new variable and use an `if/else` statement to define if it is larger or smaller than z."
      ]
    },
    {
      "cell_type": "code",
      "execution_count": null,
      "id": "c5a8c2b2",
      "metadata": {
        "id": "c5a8c2b2"
      },
      "outputs": [],
      "source": []
    },
    {
      "cell_type": "markdown",
      "id": "d9776b1a",
      "metadata": {
        "id": "d9776b1a"
      },
      "source": [
        "**Variables that include multiple items**:\n",
        "\n",
        "One can store multiple pieces of information in one variable."
      ]
    },
    {
      "cell_type": "code",
      "execution_count": null,
      "id": "1189c9e8",
      "metadata": {
        "id": "1189c9e8",
        "outputId": "5fd2271a-0cff-420b-be02-5133b6c5070d"
      },
      "outputs": [
        {
          "name": "stdout",
          "output_type": "stream",
          "text": [
            "[10, 19]\n"
          ]
        }
      ],
      "source": [
        "l = [x,z]\n",
        "print(l)"
      ]
    },
    {
      "cell_type": "code",
      "execution_count": null,
      "id": "b4630ee2",
      "metadata": {
        "id": "b4630ee2",
        "outputId": "f9280e92-d49e-4718-f676-b894a9e4e2d6"
      },
      "outputs": [
        {
          "data": {
            "text/plain": "[10, 19, 50, 18]"
          },
          "execution_count": 25,
          "metadata": {},
          "output_type": "execute_result"
        }
      ],
      "source": [
        "l_2 = [x,z,50,18]\n",
        "l_2"
      ]
    },
    {
      "cell_type": "code",
      "execution_count": null,
      "id": "9c12fc89",
      "metadata": {
        "id": "9c12fc89",
        "outputId": "14f3dae2-49be-4d2b-e4d1-eb2155eff9a1"
      },
      "outputs": [
        {
          "data": {
            "text/plain": "['x', 'z', 50, 78]"
          },
          "execution_count": 26,
          "metadata": {},
          "output_type": "execute_result"
        }
      ],
      "source": [
        "l_3 = [\"x\",\"z\",50,78]\n",
        "l_3"
      ]
    },
    {
      "cell_type": "code",
      "execution_count": null,
      "id": "b7e8a47e",
      "metadata": {
        "id": "b7e8a47e",
        "outputId": "c2e3bd8e-58c9-4f9a-fe6d-436657be397d"
      },
      "outputs": [
        {
          "data": {
            "text/plain": "['x', 'z', '50', '78']"
          },
          "execution_count": 27,
          "metadata": {},
          "output_type": "execute_result"
        }
      ],
      "source": [
        "l_4 = [\"x\",\"z\",\"50\",\"78\"]\n",
        "l_4"
      ]
    },
    {
      "cell_type": "markdown",
      "id": "16e8ba80",
      "metadata": {
        "id": "16e8ba80"
      },
      "source": [
        "The `len` function can be used to count the number of items of a list."
      ]
    },
    {
      "cell_type": "code",
      "execution_count": null,
      "id": "2c12a770",
      "metadata": {
        "id": "2c12a770",
        "outputId": "3ff50e75-0bbb-48ec-cacd-a7e28d11d869"
      },
      "outputs": [
        {
          "data": {
            "text/plain": "2"
          },
          "execution_count": 28,
          "metadata": {},
          "output_type": "execute_result"
        }
      ],
      "source": [
        "len(l)"
      ]
    },
    {
      "cell_type": "code",
      "execution_count": null,
      "id": "5446d7d1",
      "metadata": {
        "id": "5446d7d1",
        "outputId": "63e6e2b3-36ab-4c36-efd4-92444b7e1dd7"
      },
      "outputs": [
        {
          "data": {
            "text/plain": "4"
          },
          "execution_count": 29,
          "metadata": {},
          "output_type": "execute_result"
        }
      ],
      "source": [
        "len(l_3)"
      ]
    },
    {
      "cell_type": "markdown",
      "id": "c7c129e1",
      "metadata": {
        "id": "c7c129e1"
      },
      "source": [
        "When one wants to select one element out of a list, one can use a numeric index."
      ]
    },
    {
      "cell_type": "code",
      "execution_count": null,
      "id": "420304cd",
      "metadata": {
        "id": "420304cd",
        "outputId": "b0aa0b0c-17a9-4d45-995c-05fa05e31053"
      },
      "outputs": [
        {
          "data": {
            "text/plain": "'50'"
          },
          "execution_count": 30,
          "metadata": {},
          "output_type": "execute_result"
        }
      ],
      "source": [
        "l_4[2]"
      ]
    },
    {
      "cell_type": "code",
      "execution_count": null,
      "id": "f5022644",
      "metadata": {
        "id": "f5022644",
        "outputId": "04471064-f197-4e6a-d818-76bfe2c8bf3d"
      },
      "outputs": [
        {
          "data": {
            "text/plain": "19"
          },
          "execution_count": 31,
          "metadata": {},
          "output_type": "execute_result"
        }
      ],
      "source": [
        "l[1]"
      ]
    },
    {
      "cell_type": "markdown",
      "id": "c751f985",
      "metadata": {
        "id": "c751f985"
      },
      "source": [
        "Another way to select specific items of a list would be based on `if/else` statements. Here the word `in` is central.  "
      ]
    },
    {
      "cell_type": "code",
      "execution_count": null,
      "id": "496e3125",
      "metadata": {
        "id": "496e3125",
        "outputId": "1c937850-739f-4b1b-e6b8-598edb56da2f"
      },
      "outputs": [
        {
          "name": "stdout",
          "output_type": "stream",
          "text": [
            "x is in the list l_2\n"
          ]
        }
      ],
      "source": [
        "if x in l_2:\n",
        "    print (\"x is in the list l_2\")\n",
        "else:\n",
        "    print (\"x is not in the list l_2\")"
      ]
    },
    {
      "cell_type": "code",
      "execution_count": null,
      "id": "69ea7052",
      "metadata": {
        "id": "69ea7052",
        "outputId": "5181a1e9-9f79-481a-dcb3-1faca94dd79b"
      },
      "outputs": [
        {
          "name": "stdout",
          "output_type": "stream",
          "text": [
            "x is not in the list l_3\n"
          ]
        }
      ],
      "source": [
        "if x in l_3:\n",
        "    print (\"x is in the list l_3\")\n",
        "else:\n",
        "    print (\"x is not in the list l_3\")"
      ]
    },
    {
      "cell_type": "markdown",
      "id": "c3708d8c",
      "metadata": {
        "id": "c3708d8c"
      },
      "source": [
        "**Exercise**: Use a `if/else` statement to check if the value 78 is in `l_3` and `l_4`."
      ]
    },
    {
      "cell_type": "code",
      "execution_count": null,
      "id": "aacce144",
      "metadata": {
        "id": "aacce144"
      },
      "outputs": [],
      "source": []
    },
    {
      "cell_type": "markdown",
      "id": "c64ee24a",
      "metadata": {
        "id": "c64ee24a"
      },
      "source": [
        "**`for` loop**\n",
        "\n",
        "Loops allow repeating a process. This can be very helpful at times. In the first example, we take every item of `l_2`, add `10` to the value and print it."
      ]
    },
    {
      "cell_type": "code",
      "execution_count": null,
      "id": "9b9b2570",
      "metadata": {
        "id": "9b9b2570",
        "outputId": "619b5358-0213-4ad8-fb1e-19f11c5c0557"
      },
      "outputs": [
        {
          "name": "stdout",
          "output_type": "stream",
          "text": [
            "20\n",
            "29\n"
          ]
        }
      ],
      "source": [
        "for value in l:\n",
        "    print(value+10)"
      ]
    },
    {
      "cell_type": "markdown",
      "id": "895ef3cb",
      "metadata": {
        "id": "895ef3cb"
      },
      "source": [
        "**Exercise**: Write a loop that prints all values of `l_4` with the words `\"This is a value of l_4:\" `."
      ]
    },
    {
      "cell_type": "code",
      "execution_count": null,
      "id": "7fea8cc9",
      "metadata": {
        "id": "7fea8cc9"
      },
      "outputs": [],
      "source": []
    }
  ],
  "metadata": {
    "kernelspec": {
      "display_name": "Python 3 (ipykernel)",
      "language": "python",
      "name": "python3"
    },
    "language_info": {
      "codemirror_mode": {
        "name": "ipython",
        "version": 3
      },
      "file_extension": ".py",
      "mimetype": "text/x-python",
      "name": "python",
      "nbconvert_exporter": "python",
      "pygments_lexer": "ipython3",
      "version": "3.9.12"
    },
    "colab": {
      "provenance": [],
      "toc_visible": true
    }
  },
  "nbformat": 4,
  "nbformat_minor": 5
}